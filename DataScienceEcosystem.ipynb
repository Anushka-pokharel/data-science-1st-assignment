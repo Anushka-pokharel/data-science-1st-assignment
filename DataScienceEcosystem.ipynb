{
 "cells": [
  {
   "cell_type": "markdown",
   "id": "048e22b9",
   "metadata": {},
   "source": [
    "# Data Science Tools and Ecosystem\n"
   ]
  },
  {
   "cell_type": "markdown",
   "id": "57ab6b1a",
   "metadata": {},
   "source": [
    "In this notebook, Data Science Tools and Ecosystem are summarized."
   ]
  },
  {
   "cell_type": "markdown",
   "id": "6ebd3b70",
   "metadata": {},
   "source": [
    "<b>Objectives:</b>\n",
    "<li>open source tools for data science</li>\n",
    "<li>language used in data science</li>\n",
    "<li>libraries used in data science</li>\n"
   ]
  },
  {
   "cell_type": "markdown",
   "id": "73a704dd",
   "metadata": {},
   "source": [
    "Some of the popular languages that Data Scientists use are:\n",
    "<li>python</li>\n",
    "<li>R</li>\n",
    "<li>julia</li>\n",
    "<li>scala</li>"
   ]
  },
  {
   "cell_type": "markdown",
   "id": "961be020",
   "metadata": {},
   "source": [
    "Some of the commonly used libraries used by Data Scientists include:\n",
    "<li>NumPy</li>\n",
    "<li>Pandas</li>\n",
    "<li>TensorFlow</li>\n",
    "<li>PyTorch</li>"
   ]
  },
  {
   "cell_type": "markdown",
   "id": "b3483b38",
   "metadata": {},
   "source": [
    "| Datascience Tools |\n",
    "| ------------------|\n",
    "| ApacheHadoop|\n",
    "| TensorFlow |\n",
    "| ApacheSpark|\n",
    "| Jupyter Notebook|\n"
   ]
  },
  {
   "cell_type": "markdown",
   "id": "a8eff2c0",
   "metadata": {},
   "source": [
    "### Below are a few examples of evaluating arithmetic expressions in Python"
   ]
  },
  {
   "cell_type": "code",
   "execution_count": 1,
   "id": "b8ee4b49",
   "metadata": {},
   "outputs": [
    {
     "data": {
      "text/plain": [
       "17"
      ]
     },
     "execution_count": 1,
     "metadata": {},
     "output_type": "execute_result"
    }
   ],
   "source": [
    "(3*4)+5\n",
    "#This a simple arithmetic expression to mutiply then add integers\n"
   ]
  },
  {
   "cell_type": "code",
   "execution_count": 10,
   "id": "2a06abc2",
   "metadata": {},
   "outputs": [
    {
     "name": "stdout",
     "output_type": "stream",
     "text": [
      "enter the time in minutes\n",
      "the time in minutes is 200\n",
      "the converted time from minutes to hours is 3.3333333333333335\n"
     ]
    }
   ],
   "source": [
    " a=200\n",
    "print(\"enter the time in minutes\")\n",
    "print(\"the time in minutes is\",a)\n",
    "#This will convert 200 minutes to hours by diving by 60\n",
    "print(\"the converted time from minutes to hours is\",a/60)\n"
   ]
  },
  {
   "cell_type": "markdown",
   "id": "69a513c4",
   "metadata": {},
   "source": [
    "## Author\n",
    "ANUSHKA POKHAREL"
   ]
  }
 ],
 "metadata": {
  "kernelspec": {
   "display_name": "Python 3 (ipykernel)",
   "language": "python",
   "name": "python3"
  },
  "language_info": {
   "codemirror_mode": {
    "name": "ipython",
    "version": 3
   },
   "file_extension": ".py",
   "mimetype": "text/x-python",
   "name": "python",
   "nbconvert_exporter": "python",
   "pygments_lexer": "ipython3",
   "version": "3.10.9"
  }
 },
 "nbformat": 4,
 "nbformat_minor": 5
}
